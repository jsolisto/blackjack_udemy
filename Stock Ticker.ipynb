{
 "cells": [
  {
   "cell_type": "code",
   "execution_count": 2,
   "metadata": {
    "scrolled": true
   },
   "outputs": [
    {
     "name": "stdout",
     "output_type": "stream",
     "text": [
      "How many stocks do you want prices for? 2\n",
      " Enter your stock symbol: aapl\n",
      " Enter your stock symbol: pld\n",
      "The price of PLD is 63.78\n",
      "The price of AAPL is 164.05\n",
      "Do you wish to continue updating the price? (Y/N) y\n",
      "How long until we check the stock prices next(in sec.) 1\n",
      "Before: Mon Sep 04 09:10:38 2017\n",
      "After: Mon Sep 04 09:10:39 2017\n",
      "\n",
      "[0.0, 0.0]\n",
      "[]\n",
      "The price of PLD is 63.78\n",
      "The price of AAPL is 164.05\n",
      "Do you wish to continue updating the price? (Y/N) N\n",
      "Program has stopped looking for prices. Have a great day!\n"
     ]
    }
   ],
   "source": [
    "from yahoo_finance import Share\n",
    "import copy\n",
    "\n",
    "while True:\n",
    "    try:\n",
    "        n= int(input(\"How many stocks do you want prices for? \"))\n",
    "        break\n",
    "    except:\n",
    "        print(\"That is not a valid input try again\")\n",
    "\n",
    "stockList = []\n",
    "stockList2 = []\n",
    "stockPrice = []\n",
    "stockPrice2 = []\n",
    "y=0\n",
    "while (y<n):\n",
    "    while True:\n",
    "            x= raw_input(\" Enter your stock symbol: \").upper()\n",
    "            stock_check=Share(x)\n",
    "            ticker_check= stock_check.get_price()\n",
    "            if ticker_check>0:\n",
    "                break\n",
    "            else:\n",
    "                print(\"That is an invalid ticket symbol, try again. \")\n",
    "            \n",
    "    stockList.append(x)\n",
    "    stockList2.append(x)\n",
    "    y = len(stockList)\n",
    "    rep = \"P\"\n",
    "    \n",
    "while not (rep ==\"N\"):\n",
    "    while (y>0):\n",
    "        rep=\"P\"\n",
    "        z=stockList.pop()\n",
    "        y = len(stockList)\n",
    "        yahoo = Share(z)\n",
    "        t=yahoo.get_price()\n",
    "        stockPrice.append(t)\n",
    "        print ('The price of '+ z +' is '+ t)\n",
    "    while not (rep == \"N\" or rep ==\"Y\"):\n",
    "        rep = raw_input('Do you wish to continue updating the price? (Y/N) ').upper()\n",
    "    if rep ==\"Y\":\n",
    "        sleeper()\n",
    "        stockList=stockList2[:]\n",
    "        y = len(stockList)\n",
    "        while (y>0):\n",
    "            z=stockList.pop()\n",
    "            y = len(stockList)\n",
    "            yahoo = Share(z)\n",
    "            t=yahoo.get_price()\n",
    "            stockPrice2.append(t)\n",
    "        dif=zip(stockPrice, stockPrice2)\n",
    "        dif1=[float(x[0])-float(x[1]) for x in dif]\n",
    "        print(dif1)\n",
    "        y=1\n",
    "        stockList=stockList2[:]\n",
    "        stockPrice=[]\n",
    "        \n",
    "        \n",
    "    else:\n",
    "        print(\"Program has stopped looking for prices. Have a great day!\")\n",
    "        break"
   ]
  },
  {
   "cell_type": "markdown",
   "metadata": {},
   "source": [
    "# from yahoo_finance import Share\n",
    "x= raw_input(\" Enter your stock symbol: \").upper()\n",
    "stock_check=Share(x)\n",
    "ticker_check= stock_check.get_price()\n",
    "print(ticker_check)\n",
    "t=float(ticker_check)-2\n",
    "print(t)\n",
    "print(ticker_check>0)\n",
    "print(ticker_check)"
   ]
  },
  {
   "cell_type": "code",
   "execution_count": 1,
   "metadata": {
    "collapsed": true
   },
   "outputs": [],
   "source": [
    "import time\n",
    " \n",
    "def sleeper():\n",
    "    while True:\n",
    "        # Get user input\n",
    "        try:\n",
    "            num = int(input('How long until we check the stock prices next(in sec.) '))\n",
    "            break\n",
    "        # Try to convert it to a float\n",
    "        except:\n",
    "            print('Please enter in a number.\\n')\n",
    " \n",
    "        # Run our time.sleep() command,\n",
    "        # and show the before and after time\n",
    "        \n",
    "        \n",
    "    print('Before: %s' % time.ctime())\n",
    "    time.sleep(num)\n",
    "    print('After: %s\\n' % time.ctime())"
   ]
  },
  {
   "cell_type": "code",
   "execution_count": 5,
   "metadata": {},
   "outputs": [
    {
     "data": {
      "text/plain": [
       "str"
      ]
     },
     "execution_count": 5,
     "metadata": {},
     "output_type": "execute_result"
    }
   ],
   "source": [
    "type(ticker_check)"
   ]
  },
  {
   "cell_type": "code",
   "execution_count": null,
   "metadata": {
    "collapsed": true
   },
   "outputs": [],
   "source": []
  }
 ],
 "metadata": {
  "kernelspec": {
   "display_name": "Python 2",
   "language": "python",
   "name": "python2"
  },
  "language_info": {
   "codemirror_mode": {
    "name": "ipython",
    "version": 2
   },
   "file_extension": ".py",
   "mimetype": "text/x-python",
   "name": "python",
   "nbconvert_exporter": "python",
   "pygments_lexer": "ipython2",
   "version": "2.7.13"
  }
 },
 "nbformat": 4,
 "nbformat_minor": 2
}
