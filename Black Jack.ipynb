{
 "cells": [
  {
   "cell_type": "code",
   "execution_count": 1,
   "metadata": {
    "collapsed": false
   },
   "outputs": [],
   "source": [
    "class Player(object):\n",
    "    \n",
    "    def __init__(self, bankroll=100, wins=0, losses=0):\n",
    "        \n",
    "        self.bankroll = bankroll\n",
    "        self.wins= wins\n",
    "        self.losses= losses\n",
    "       "
   ]
  },
  {
   "cell_type": "code",
   "execution_count": null,
   "metadata": {
    "collapsed": false
   },
   "outputs": [],
   "source": [
    "class deck(object):\n",
    "    def__init__(self,suits)"
   ]
  },
  {
   "cell_type": "code",
   "execution_count": 7,
   "metadata": {
    "collapsed": false
   },
   "outputs": [
    {
     "name": "stdout",
     "output_type": "stream",
     "text": [
      "Hello john, Welcome to Black Jack!\n",
      "Let's begin\n",
      "Your bankroll is 100 how much you want to bet? 9\n",
      " Your bet is 9\n",
      "john has [3, 2] , dealer is showing [10, 4]\n"
     ]
    },
    {
     "ename": "UnboundLocalError",
     "evalue": "local variable 'player_1' referenced before assignment",
     "output_type": "error",
     "traceback": [
      "\u001b[1;31m---------------------------------------------------------------------------\u001b[0m",
      "\u001b[1;31mUnboundLocalError\u001b[0m                         Traceback (most recent call last)",
      "\u001b[1;32m<ipython-input-7-55ef32f8162a>\u001b[0m in \u001b[0;36m<module>\u001b[1;34m()\u001b[0m\n\u001b[0;32m     49\u001b[0m     \u001b[1;32mprint\u001b[0m \u001b[1;33m(\u001b[0m\u001b[0mname\u001b[0m\u001b[1;33m+\u001b[0m \u001b[1;34m' has '\u001b[0m\u001b[1;33m+\u001b[0m  \u001b[0mstr\u001b[0m\u001b[1;33m(\u001b[0m\u001b[0mplayer_1\u001b[0m\u001b[1;33m)\u001b[0m \u001b[1;33m+\u001b[0m \u001b[1;34m' , dealer is showing '\u001b[0m \u001b[1;33m+\u001b[0m \u001b[0mstr\u001b[0m\u001b[1;33m(\u001b[0m\u001b[0mdealer\u001b[0m\u001b[1;33m)\u001b[0m\u001b[1;33m)\u001b[0m\u001b[1;33m\u001b[0m\u001b[0m\n\u001b[0;32m     50\u001b[0m \u001b[1;33m\u001b[0m\u001b[0m\n\u001b[1;32m---> 51\u001b[1;33m     \u001b[0mplayer_hit\u001b[0m\u001b[1;33m(\u001b[0m\u001b[1;33m)\u001b[0m\u001b[1;33m\u001b[0m\u001b[0m\n\u001b[0m\u001b[0;32m     52\u001b[0m     \u001b[0mh\u001b[0m\u001b[1;33m=\u001b[0m\u001b[1;34m''\u001b[0m\u001b[1;33m\u001b[0m\u001b[0m\n\u001b[0;32m     53\u001b[0m     \u001b[1;32mwhile\u001b[0m \u001b[1;32mnot\u001b[0m \u001b[1;33m(\u001b[0m\u001b[0mh\u001b[0m\u001b[1;33m==\u001b[0m\u001b[1;34m\"Y\"\u001b[0m \u001b[1;32mor\u001b[0m \u001b[0mh\u001b[0m\u001b[1;33m==\u001b[0m\u001b[1;34m\"N\"\u001b[0m\u001b[1;33m)\u001b[0m\u001b[1;33m:\u001b[0m\u001b[1;33m\u001b[0m\u001b[0m\n",
      "\u001b[1;32m<ipython-input-4-c93a567f77a6>\u001b[0m in \u001b[0;36mplayer_hit\u001b[1;34m()\u001b[0m\n\u001b[0;32m      2\u001b[0m \u001b[1;33m\u001b[0m\u001b[0m\n\u001b[0;32m      3\u001b[0m     \u001b[0mchoice\u001b[0m \u001b[1;33m=\u001b[0m \u001b[1;34m''\u001b[0m\u001b[1;33m\u001b[0m\u001b[0m\n\u001b[1;32m----> 4\u001b[1;33m     \u001b[1;32mif\u001b[0m \u001b[0msum\u001b[0m\u001b[1;33m(\u001b[0m\u001b[0mplayer_1\u001b[0m\u001b[1;33m)\u001b[0m\u001b[1;33m>\u001b[0m\u001b[1;36m21\u001b[0m\u001b[1;33m:\u001b[0m\u001b[1;33m\u001b[0m\u001b[0m\n\u001b[0m\u001b[0;32m      5\u001b[0m         \u001b[1;32mprint\u001b[0m\u001b[1;33m(\u001b[0m\u001b[1;34m\"dealer wins!!!\"\u001b[0m\u001b[1;33m)\u001b[0m\u001b[1;33m\u001b[0m\u001b[0m\n\u001b[0;32m      6\u001b[0m         \u001b[0mu\u001b[0m \u001b[1;33m=\u001b[0m \u001b[0mplayer_1\u001b[0m\u001b[1;33m.\u001b[0m\u001b[0mbankroll\u001b[0m\u001b[1;33m-\u001b[0m\u001b[1;36m0\u001b[0m\u001b[1;33m\u001b[0m\u001b[0m\n",
      "\u001b[1;31mUnboundLocalError\u001b[0m: local variable 'player_1' referenced before assignment"
     ]
    }
   ],
   "source": [
    "from IPython.display import clear_output\n",
    "\n",
    "name = raw_input (\"what's your name? \")\n",
    "clear_output()\n",
    "print(\"Hello \" + name + \", Welcome to Black Jack!\")\n",
    "\n",
    "class Player(object):\n",
    "    \n",
    "    def __init__(self, bankroll=100, wins=0, losses=0):\n",
    "        \n",
    "        self.bankroll = bankroll\n",
    "        self.wins= wins\n",
    "        self.losses= losses\n",
    "        \n",
    "class deck(object):\n",
    "    def __init__ (self, suit, value, total=52):\n",
    "        self.suit=suit\n",
    "        self.value=value\n",
    "        self.total=total\n",
    "        \n",
    "        \n",
    "print (\"Let's begin\")\n",
    "player_1 =Player()\n",
    "\n",
    "while True:\n",
    "    \n",
    "    o = \"\"\n",
    "    while not (o <= player_1.bankroll):\n",
    "        o = int(raw_input('Your bankroll is '+ str(player_1.bankroll)+' how much you want to bet? '))\n",
    "    print(\" Your bet is \" + str(o))\n",
    "    \n",
    "    crds = []    \n",
    "    \n",
    "    for i in range (1,5):    \n",
    "        for num in range (1,14):\n",
    "            crds.append(num)\n",
    "\n",
    "   \n",
    "\n",
    "    fs=0\n",
    "    t = 51\n",
    "    player_1 = []\n",
    "    dealer = []\n",
    "\n",
    "    while fs < 3:\n",
    "        initial_deal()\n",
    "\n",
    "\n",
    "    print (name+ ' has '+  str(player_1) + ' , dealer is showing ' + str(dealer))    \n",
    "\n",
    "    player_hit()\n",
    "    h=''\n",
    "    while not (h==\"Y\" or h==\"N\"):\n",
    "        h=raw_input(\"Do you wish to play again? (Y/N) \").upper()\n",
    "    if h == \"Y\":\n",
    "        clear_output()\n",
    "        print(\"Game time!!\")\n",
    "    else:\n",
    "        break\n",
    "\n"
   ]
  },
  {
   "cell_type": "code",
   "execution_count": 1,
   "metadata": {
    "collapsed": false
   },
   "outputs": [],
   "source": [
    "import random\n",
    "\n",
    "def initial_deal():\n",
    "    global t\n",
    "   \n",
    "    global dealer\n",
    "    global fs\n",
    "    \n",
    "    po = random.randint(1,t)\n",
    "    u = crds.pop(po)\n",
    "    if 10<u<=13:\n",
    "            u=10\n",
    "            t = t-1\n",
    "            player_1.append(u)\n",
    "            fs+=1\n",
    "           \n",
    "    elif u == 1:\n",
    "            u = 11\n",
    "            t = t-1\n",
    "            player_1.append(u)\n",
    "            fs+=1\n",
    "        \n",
    "    else:\n",
    "        t = t-1\n",
    "        player_1.append(u)\n",
    "        fs+=1\n",
    "     \n",
    "    po = random.randint(1,t)\n",
    "    u = crds.pop(po) \n",
    "    if 10<u<=13:\n",
    "        u=10\n",
    "        t = t-1\n",
    "        dealer.append(u)    \n",
    "        fs+=1\n",
    "    elif u == 1:\n",
    "        u = 11\n",
    "        t = t-1\n",
    "        dealer.append(u)\n",
    "        fs+=1\n",
    "    else:\n",
    "        t = t-1\n",
    "        dealer.append(u)\n",
    "        fs+=1\n",
    "    "
   ]
  },
  {
   "cell_type": "code",
   "execution_count": 2,
   "metadata": {
    "collapsed": false
   },
   "outputs": [],
   "source": [
    "def cards():\n",
    "    global crds\n",
    "crds = []    \n",
    "    \n",
    "for i in range (1,5):    \n",
    "    for num in range (1,14):\n",
    "        crds.append(num)\n",
    "        "
   ]
  },
  {
   "cell_type": "code",
   "execution_count": 3,
   "metadata": {
    "collapsed": false
   },
   "outputs": [],
   "source": [
    "class Player(object):\n",
    "    \n",
    "    def __init__(self, bankroll=100, wins=0, losses=0):\n",
    "        \n",
    "        self.bankroll = bankroll\n",
    "        self.wins= wins\n",
    "        self.losses= losses\n",
    "        \n"
   ]
  },
  {
   "cell_type": "code",
   "execution_count": 4,
   "metadata": {
    "collapsed": false
   },
   "outputs": [],
   "source": [
    "def player_hit():\n",
    "\n",
    "    choice = ''\n",
    "    if sum(player_1)>21:\n",
    "        print(\"dealer wins!!!\")\n",
    "        u = player_1.bankroll-0\n",
    "        p = player_1.losses+1\n",
    "        player_1 = Player(bankroll= 'u', losses = p)\n",
    "    else:\n",
    "        while not (choice== \"hit\" or choice == \"stay\"):\n",
    "            choice= raw_input(' Do you wish to hit or stay? ')\n",
    "        if choice == \"hit\":\n",
    "            player_dealt()\n",
    "            print(name+ ' has '+  str(player_1))\n",
    "            player_hit()\n",
    "        else:\n",
    "            print(\"Dealer is up\")\n",
    "            dealer_hit()"
   ]
  },
  {
   "cell_type": "code",
   "execution_count": 5,
   "metadata": {
    "collapsed": false
   },
   "outputs": [],
   "source": [
    "def dealer_hit():\n",
    "    \n",
    "    global t\n",
    "    while sum(dealer)<sum(player_1):\n",
    "            po = random.randint(1,t)\n",
    "            u = crds.pop(po)\n",
    "    \n",
    "            if 10<u<=13:\n",
    "                u=10\n",
    "                t = t-1\n",
    "                dealer.append(u)\n",
    "            \n",
    "           \n",
    "            elif u == 1:\n",
    "                u = 11\n",
    "                t = t-1\n",
    "                dealer.append(u)\n",
    "            \n",
    "        \n",
    "            else:\n",
    "                t = t-1\n",
    "                dealer.append(u)\n",
    "  \n",
    "    if sum(dealer)<=21:\n",
    "        print(\"Dealer has\" + str(dealer))\n",
    "        print(\"dealer wins!!\")\n",
    "        o = player_1.bankroll -o\n",
    "        p = player_1.losses+1\n",
    "        player_1 = Player(bankroll= 'u', losses = p)\n",
    "    else:\n",
    "        print(\"Dealer has\" + str(dealer))\n",
    "        print(name + ' wins!!')\n",
    "        o = player_1.bankroll+o\n",
    "        p = player_1.wins+1\n",
    "        player_1 = Player(bankroll= 'u', wins = p)"
   ]
  },
  {
   "cell_type": "code",
   "execution_count": 8,
   "metadata": {
    "collapsed": false
   },
   "outputs": [],
   "source": [
    "player_1 =Player()"
   ]
  },
  {
   "cell_type": "code",
   "execution_count": 21,
   "metadata": {
    "collapsed": false
   },
   "outputs": [
    {
     "data": {
      "text/plain": [
       "100"
      ]
     },
     "execution_count": 21,
     "metadata": {},
     "output_type": "execute_result"
    }
   ],
   "source": [
    "player_1.bankroll"
   ]
  },
  {
   "cell_type": "code",
   "execution_count": 17,
   "metadata": {
    "collapsed": false
   },
   "outputs": [
    {
     "data": {
      "text/plain": [
       "[7, 9, 6]"
      ]
     },
     "execution_count": 17,
     "metadata": {},
     "output_type": "execute_result"
    }
   ],
   "source": [
    "dealer"
   ]
  },
  {
   "cell_type": "code",
   "execution_count": 9,
   "metadata": {
    "collapsed": false
   },
   "outputs": [
    {
     "data": {
      "text/plain": [
       "44"
      ]
     },
     "execution_count": 9,
     "metadata": {},
     "output_type": "execute_result"
    }
   ],
   "source": [
    "t"
   ]
  },
  {
   "cell_type": "code",
   "execution_count": 6,
   "metadata": {
    "collapsed": false
   },
   "outputs": [],
   "source": [
    "def player_dealt():       \n",
    "    \n",
    "    global t\n",
    "    po = random.randint(1,t)\n",
    "    u = crds.pop(po)\n",
    "    \n",
    "    if 10<u<=13:\n",
    "            u=10\n",
    "            t = t-1\n",
    "            player_1.append(u)\n",
    "            \n",
    "           \n",
    "    elif u == 1:\n",
    "            u = 11\n",
    "            t = t-1\n",
    "            player_1.append(u)\n",
    "            \n",
    "        \n",
    "    else:\n",
    "        t = t-1\n",
    "        player_1.append(u)\n",
    "       "
   ]
  },
  {
   "cell_type": "code",
   "execution_count": null,
   "metadata": {
    "collapsed": false
   },
   "outputs": [],
   "source": [
    "\n"
   ]
  },
  {
   "cell_type": "code",
   "execution_count": 1,
   "metadata": {
    "collapsed": false
   },
   "outputs": [
    {
     "name": "stdout",
     "output_type": "stream",
     "text": [
      "Your bankroll is 100 how much you want to bet? 120\n",
      "120\n",
      "Your bankroll is 100 how much you want to bet? 90\n",
      "90\n",
      "your bet is 90\n"
     ]
    }
   ],
   "source": [
    "class Player(object):\n",
    "    \n",
    "    def __init__(self, bankroll=100, wins=0, losses=0):\n",
    "        \n",
    "        self.bankroll = bankroll\n",
    "        self.wins= wins\n",
    "        self.losses= losses    \n",
    "    \n",
    "player_1=Player()\n",
    "o= 110\n",
    "while  o > player_1.bankroll:\n",
    "    o = int(raw_input('Your bankroll is '+ str(player_1.bankroll)+' how much you want to bet? '))\n",
    "    print(o)\n",
    "print ('your bet is '+ str(o))"
   ]
  },
  {
   "cell_type": "code",
   "execution_count": 11,
   "metadata": {
    "collapsed": false
   },
   "outputs": [],
   "source": [
    "player_1=Player()"
   ]
  },
  {
   "cell_type": "code",
   "execution_count": 12,
   "metadata": {
    "collapsed": false
   },
   "outputs": [
    {
     "data": {
      "text/plain": [
       "100"
      ]
     },
     "execution_count": 12,
     "metadata": {},
     "output_type": "execute_result"
    }
   ],
   "source": [
    "player_1.bankroll"
   ]
  },
  {
   "cell_type": "code",
   "execution_count": 2,
   "metadata": {
    "collapsed": false
   },
   "outputs": [
    {
     "data": {
      "text/plain": [
       "int"
      ]
     },
     "execution_count": 2,
     "metadata": {},
     "output_type": "execute_result"
    }
   ],
   "source": [
    "type(o)"
   ]
  },
  {
   "cell_type": "code",
   "execution_count": 4,
   "metadata": {
    "collapsed": false
   },
   "outputs": [
    {
     "name": "stdout",
     "output_type": "stream",
     "text": [
      "Your bankroll is 100 how much you want to bet? 9\n"
     ]
    }
   ],
   "source": [
    "o = raw_input('Your bankroll is '+ str(player_1.bankroll)+' how much you want to bet? ')"
   ]
  },
  {
   "cell_type": "code",
   "execution_count": 6,
   "metadata": {
    "collapsed": false
   },
   "outputs": [
    {
     "data": {
      "text/plain": [
       "'9'"
      ]
     },
     "execution_count": 6,
     "metadata": {},
     "output_type": "execute_result"
    }
   ],
   "source": [
    "o"
   ]
  },
  {
   "cell_type": "code",
   "execution_count": null,
   "metadata": {
    "collapsed": true
   },
   "outputs": [],
   "source": []
  }
 ],
 "metadata": {
  "anaconda-cloud": {},
  "kernelspec": {
   "display_name": "Python [Root]",
   "language": "python",
   "name": "Python [Root]"
  },
  "language_info": {
   "codemirror_mode": {
    "name": "ipython",
    "version": 2
   },
   "file_extension": ".py",
   "mimetype": "text/x-python",
   "name": "python",
   "nbconvert_exporter": "python",
   "pygments_lexer": "ipython2",
   "version": "2.7.12"
  }
 },
 "nbformat": 4,
 "nbformat_minor": 0
}
